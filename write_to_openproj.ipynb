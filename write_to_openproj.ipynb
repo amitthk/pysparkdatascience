{
 "cells": [
  {
   "cell_type": "code",
   "execution_count": 13,
   "metadata": {},
   "outputs": [],
   "source": [
    "import pandas as pd"
   ]
  },
  {
   "cell_type": "code",
   "execution_count": 28,
   "metadata": {},
   "outputs": [],
   "source": [
    "l_file = pd.read_csv('../../datasets/gtd.csv',sep=',', decimal='.',\n",
    "header=None)"
   ]
  },
  {
   "cell_type": "code",
   "execution_count": 72,
   "metadata": {},
   "outputs": [],
   "source": [
    "import urllib.parse\n",
    "import urllib.request\n",
    "import os,json\n",
    "import requests"
   ]
  },
  {
   "cell_type": "code",
   "execution_count": 100,
   "metadata": {},
   "outputs": [
    {
     "name": "stdout",
     "output_type": "stream",
     "text": [
      "HTTP Error 401: Unauthorized\n"
     ]
    }
   ],
   "source": [
    "base_url = \"http://localhost:8885\"\n",
    "url = base_url + '/api/v3/projects/gtd/work_packages'\n",
    "auth_creds = 'Basic fdsafdsafs'\n",
    "\n",
    "headers = {'Authorization' : auth_creds, 'Accept': 'application/json', 'Content-Type': 'application/json'  }\n",
    "\n",
    "req = urllib.request.Request(url, None, headers)\n",
    "try:\n",
    "    response = urllib.request.urlopen(req)\n",
    "    the_page = response.read()\n",
    "except Exception as e:\n",
    "    print(e)\n",
    "#print(the_page)"
   ]
  },
  {
   "cell_type": "code",
   "execution_count": 95,
   "metadata": {},
   "outputs": [
    {
     "name": "stdout",
     "output_type": "stream",
     "text": [
      "401 Unauthorized\n",
      "401 Unauthorized\n",
      "401 Unauthorized\n",
      "401 Unauthorized\n",
      "401 Unauthorized\n",
      "401 Unauthorized\n",
      "401 Unauthorized\n",
      "401 Unauthorized\n",
      "401 Unauthorized\n",
      "401 Unauthorized\n",
      "401 Unauthorized\n",
      "401 Unauthorized\n",
      "401 Unauthorized\n",
      "401 Unauthorized\n",
      "401 Unauthorized\n",
      "401 Unauthorized\n",
      "401 Unauthorized\n",
      "401 Unauthorized\n",
      "401 Unauthorized\n",
      "401 Unauthorized\n",
      "401 Unauthorized\n",
      "401 Unauthorized\n",
      "401 Unauthorized\n",
      "401 Unauthorized\n",
      "401 Unauthorized\n",
      "401 Unauthorized\n",
      "401 Unauthorized\n",
      "401 Unauthorized\n",
      "401 Unauthorized\n",
      "401 Unauthorized\n",
      "401 Unauthorized\n",
      "401 Unauthorized\n",
      "401 Unauthorized\n",
      "401 Unauthorized\n",
      "401 Unauthorized\n",
      "401 Unauthorized\n",
      "401 Unauthorized\n",
      "401 Unauthorized\n",
      "401 Unauthorized\n",
      "401 Unauthorized\n",
      "401 Unauthorized\n",
      "401 Unauthorized\n",
      "401 Unauthorized\n",
      "401 Unauthorized\n",
      "401 Unauthorized\n",
      "401 Unauthorized\n",
      "401 Unauthorized\n",
      "401 Unauthorized\n",
      "401 Unauthorized\n",
      "401 Unauthorized\n",
      "401 Unauthorized\n",
      "401 Unauthorized\n",
      "401 Unauthorized\n",
      "401 Unauthorized\n",
      "401 Unauthorized\n",
      "401 Unauthorized\n",
      "401 Unauthorized\n",
      "401 Unauthorized\n",
      "401 Unauthorized\n",
      "401 Unauthorized\n",
      "401 Unauthorized\n",
      "401 Unauthorized\n",
      "401 Unauthorized\n",
      "401 Unauthorized\n",
      "401 Unauthorized\n",
      "401 Unauthorized\n",
      "401 Unauthorized\n",
      "401 Unauthorized\n",
      "401 Unauthorized\n",
      "401 Unauthorized\n",
      "401 Unauthorized\n",
      "401 Unauthorized\n",
      "401 Unauthorized\n",
      "401 Unauthorized\n",
      "401 Unauthorized\n",
      "401 Unauthorized\n",
      "401 Unauthorized\n",
      "401 Unauthorized\n",
      "401 Unauthorized\n",
      "401 Unauthorized\n",
      "401 Unauthorized\n",
      "401 Unauthorized\n",
      "401 Unauthorized\n",
      "401 Unauthorized\n",
      "401 Unauthorized\n",
      "401 Unauthorized\n",
      "401 Unauthorized\n",
      "401 Unauthorized\n",
      "401 Unauthorized\n",
      "401 Unauthorized\n",
      "401 Unauthorized\n",
      "401 Unauthorized\n",
      "401 Unauthorized\n",
      "401 Unauthorized\n",
      "401 Unauthorized\n",
      "401 Unauthorized\n",
      "401 Unauthorized\n",
      "401 Unauthorized\n",
      "401 Unauthorized\n",
      "401 Unauthorized\n"
     ]
    }
   ],
   "source": [
    "url = base_url+'/api/v3/projects/3/work_packages'\n",
    "headers = {'authorization' : auth_creds, 'accept': 'application/json', 'content-type': 'application/json'  }\n",
    "for index, row in l_file.iterrows():\n",
    "    task_data = {\n",
    "    \"subject\": '\"{0}\"'.format(row[1]),\n",
    "    \"_links\": {\n",
    "        \"project\": {\"href\": \"/api/v3/projects/3\"},\n",
    "        \"type\": {\"href\":\"/api/v3/types/1\"}\n",
    "        }\n",
    "    }\n",
    "    resp = requests.post(url,data=json.dumps(task_data),headers=headers)\n",
    "    #print(resp.status_code, resp.reason,resp.content)\n",
    "    print(resp.status_code, resp.reason)\n"
   ]
  },
  {
   "cell_type": "code",
   "execution_count": 75,
   "metadata": {},
   "outputs": [
    {
     "data": {
      "text/plain": [
       "<Response [400]>"
      ]
     },
     "execution_count": 75,
     "metadata": {},
     "output_type": "execute_result"
    }
   ],
   "source": [
    "# ## Using urllib to perform post\n",
    "    #task_data = urllib.parse.urlencode(task_data)\n",
    "    #task_data = json.dumps(task_data)\n",
    "    #req = urllib.request.Request(url)\n",
    "    #req = urllib.request.Request(url, None, headers)\n",
    "    #req.add_header('Authorization',auth_creds)\n",
    "    #req.add_header('Content-Type','application/json; charset=utf-8')\n",
    "    #jsondata = json.dumps(task_data)\n",
    "    #jsondataasbytes = jsondata.encode('utf-8')   # needs to be bytes\n",
    "    #req.add_header('Content-Length', len(jsondataasbytes))\n",
    "    #response = urllib.request.urlopen(req, jsondata)"
   ]
  },
  {
   "cell_type": "code",
   "execution_count": null,
   "metadata": {},
   "outputs": [],
   "source": []
  }
 ],
 "metadata": {
  "kernelspec": {
   "display_name": "Python 3",
   "language": "python",
   "name": "python3"
  },
  "language_info": {
   "codemirror_mode": {
    "name": "ipython",
    "version": 3
   },
   "file_extension": ".py",
   "mimetype": "text/x-python",
   "name": "python",
   "nbconvert_exporter": "python",
   "pygments_lexer": "ipython3",
   "version": "3.6.2"
  }
 },
 "nbformat": 4,
 "nbformat_minor": 2
}
